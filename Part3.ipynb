{
 "cells": [
  {
   "cell_type": "code",
   "execution_count": 19,
   "metadata": {
    "collapsed": true
   },
   "outputs": [],
   "source": [
    "from gensim.models import Word2Vec"
   ]
  },
  {
   "cell_type": "code",
   "execution_count": 37,
   "metadata": {
    "collapsed": true
   },
   "outputs": [],
   "source": [
    "import pandas as pd\n",
    "from bs4 import BeautifulSoup\n",
    "import re\n",
    "from nltk.corpus import stopwords"
   ]
  },
  {
   "cell_type": "code",
   "execution_count": 30,
   "metadata": {
    "collapsed": false
   },
   "outputs": [],
   "source": [
    "train = pd.read_csv(\"data/labeledTrainData.tsv\", header=0, delimiter=\"\\t\", quoting=3)\n",
    "test = pd.read_csv(\"data/testData.tsv\", header=0, delimiter=\"\\t\", quoting=3)"
   ]
  },
  {
   "cell_type": "code",
   "execution_count": 20,
   "metadata": {
    "collapsed": true
   },
   "outputs": [],
   "source": [
    "model = Word2Vec.load(\"300features_40minwords_10context\")"
   ]
  },
  {
   "cell_type": "code",
   "execution_count": 21,
   "metadata": {
    "collapsed": false
   },
   "outputs": [
    {
     "data": {
      "text/plain": [
       "numpy.ndarray"
      ]
     },
     "execution_count": 21,
     "metadata": {},
     "output_type": "execute_result"
    }
   ],
   "source": [
    "type(model.syn0)"
   ]
  },
  {
   "cell_type": "code",
   "execution_count": 22,
   "metadata": {
    "collapsed": false
   },
   "outputs": [
    {
     "data": {
      "text/plain": [
       "(19367, 300)"
      ]
     },
     "execution_count": 22,
     "metadata": {},
     "output_type": "execute_result"
    }
   ],
   "source": [
    "model.syn0.shape"
   ]
  },
  {
   "cell_type": "code",
   "execution_count": 39,
   "metadata": {
    "collapsed": true
   },
   "outputs": [],
   "source": [
    "num_features = 300"
   ]
  },
  {
   "cell_type": "code",
   "execution_count": 23,
   "metadata": {
    "collapsed": false
   },
   "outputs": [
    {
     "data": {
      "text/plain": [
       "array([  3.88699844e-02,  -5.79281636e-02,  -4.72524166e-02,\n",
       "        -3.44215110e-02,  -5.52127138e-02,  -3.30933109e-02,\n",
       "         3.13735828e-02,   1.38976257e-02,   2.75714416e-03,\n",
       "         5.81019185e-02,  -6.12710081e-02,   6.58257753e-02,\n",
       "         1.07289098e-01,   3.88932088e-03,  -1.03177443e-01,\n",
       "        -6.23398228e-03,   5.54352216e-02,   1.23001933e-01,\n",
       "         4.97372970e-02,   3.10368817e-02,   5.95951639e-02,\n",
       "        -1.90753508e-02,   8.29407126e-02,  -2.54650749e-02,\n",
       "         7.09344121e-03,   2.69894898e-02,   2.25821976e-02,\n",
       "        -1.82786044e-02,   7.49888346e-02,  -1.27652232e-02,\n",
       "         6.71777055e-02,  -3.18174139e-02,   7.71801025e-02,\n",
       "         1.05839381e-02,   1.87179428e-02,   5.39638568e-03,\n",
       "        -3.91476937e-02,  -7.63301796e-04,   4.01199162e-02,\n",
       "        -9.08813905e-03,  -9.09716189e-02,   4.34762612e-02,\n",
       "         8.72895941e-02,   2.94513088e-02,   5.69718517e-02,\n",
       "         8.08170959e-02,  -1.61818322e-02,   1.38613908e-02,\n",
       "         1.01348162e-01,  -3.16763483e-02,   1.94324162e-02,\n",
       "        -4.61963490e-02,  -7.73716159e-03,   6.28208071e-02,\n",
       "         1.20410481e-02,   7.75716826e-02,   3.49325538e-02,\n",
       "         4.95921783e-02,   8.48593116e-02,  -4.93665859e-02,\n",
       "        -4.98491116e-02,  -2.06209235e-02,  -7.25252032e-02,\n",
       "         7.68893864e-04,   8.50302260e-03,   9.29342881e-02,\n",
       "         3.03842276e-02,   4.62497957e-02,   2.17761053e-03,\n",
       "         5.22548482e-02,   1.96103286e-02,  -1.07281886e-01,\n",
       "        -7.83948321e-03,  -9.99598056e-02,  -5.98569177e-02,\n",
       "        -4.09792326e-02,  -1.06721021e-01,  -4.38601635e-02,\n",
       "         2.45062634e-03,  -5.16519928e-03,   2.14750860e-02,\n",
       "        -3.39039378e-02,   5.23838215e-03,   8.07494596e-02,\n",
       "        -3.87673005e-02,  -9.20644030e-03,   3.23954411e-02,\n",
       "         4.56574969e-02,   1.04324333e-01,  -3.27086672e-02,\n",
       "         4.53126505e-02,  -7.83704519e-02,  -7.90878944e-03,\n",
       "         5.03035001e-02,   3.77293713e-02,   9.49127004e-02,\n",
       "        -3.38011384e-02,   1.81950368e-02,   2.17418885e-03,\n",
       "        -4.39123958e-02,   3.13056149e-02,   2.45605316e-02,\n",
       "         3.48297730e-02,  -5.57526946e-02,  -1.23547174e-01,\n",
       "        -4.65641506e-02,   5.52840270e-02,   3.77959944e-02,\n",
       "        -1.14679500e-01,  -6.76494986e-02,  -5.93009070e-02,\n",
       "         6.47494420e-02,   6.87079910e-06,   5.55503517e-02,\n",
       "         1.19892403e-01,  -1.35517508e-01,   7.79684931e-02,\n",
       "         1.66564807e-02,  -1.37746157e-02,  -7.05465227e-02,\n",
       "         2.94059119e-03,  -3.08783017e-02,   2.83093192e-02,\n",
       "         6.51564449e-02,   1.79233123e-02,   4.18299511e-02,\n",
       "        -1.56819988e-02,  -3.56553346e-02,   6.29594699e-02,\n",
       "        -6.34503737e-02,   4.32943627e-02,   3.85192037e-02,\n",
       "         8.53156000e-02,   3.98840569e-02,  -3.32164355e-02,\n",
       "         4.37412411e-02,  -1.83923487e-02,   2.80110957e-03,\n",
       "        -8.90197754e-02,  -1.07615709e-01,  -4.77199927e-02,\n",
       "        -7.40233925e-04,   9.32917930e-03,  -4.62058997e-05,\n",
       "         7.86976293e-02,   1.27781993e-02,  -7.75912777e-02,\n",
       "        -9.82123315e-02,  -5.20806164e-02,   9.38586146e-02,\n",
       "        -4.67195138e-02,  -6.32801652e-02,  -8.07127878e-02,\n",
       "         1.88345183e-02,  -1.13171689e-01,   5.08748665e-02,\n",
       "        -1.85665749e-02,   1.71357952e-03,   1.12452619e-01,\n",
       "         3.86996418e-02,  -4.76327259e-03,   5.07530347e-02,\n",
       "        -1.63928103e-02,   4.63521108e-02,   1.32321447e-01,\n",
       "        -6.47216439e-02,   1.60442628e-02,  -6.31633475e-02,\n",
       "         5.57516180e-02,   1.11258309e-02,   2.44803913e-02,\n",
       "        -1.21964244e-02,  -2.81344876e-02,  -8.56088400e-02,\n",
       "         4.41878065e-02,  -4.27984893e-02,   6.05733544e-02,\n",
       "        -1.99522115e-02,   7.28109572e-03,   5.73388189e-02,\n",
       "         5.64405695e-02,   2.35714857e-02,   9.26426426e-02,\n",
       "         2.22410243e-02,   8.23539719e-02,  -3.65641974e-02,\n",
       "         4.34855297e-02,  -6.55243620e-02,   4.64662835e-02,\n",
       "        -1.42993346e-01,   7.03113526e-02,  -4.72224206e-02,\n",
       "        -6.48722500e-02,   2.47477945e-02,   4.31596749e-02,\n",
       "        -5.90906069e-02,  -6.51345924e-02,   6.56777993e-02,\n",
       "         6.50588125e-02,  -1.37800854e-02,   5.69271930e-02,\n",
       "         3.59191075e-02,   8.48393142e-02,  -5.78494444e-02,\n",
       "         2.00994057e-03,  -1.93612911e-02,   1.26890680e-02,\n",
       "         3.29893418e-02,   2.93784048e-02,  -2.70824935e-02,\n",
       "         9.60194767e-02,   7.97281116e-02,   8.76016077e-03,\n",
       "         2.83263884e-02,  -5.32992557e-03,  -8.98330286e-02,\n",
       "        -8.16924572e-02,   5.20784706e-02,  -5.03958650e-02,\n",
       "         9.85020176e-02,   4.40939441e-02,   4.54054633e-03,\n",
       "         2.81809159e-02,   8.89803544e-02,  -1.49723500e-01,\n",
       "         1.42292595e-02,  -7.53470510e-03,  -4.82000336e-02,\n",
       "         1.30665317e-01,   5.13475537e-02,  -1.05692282e-01,\n",
       "        -2.46459637e-02,   9.81215574e-03,  -1.01555437e-01,\n",
       "        -2.18260605e-02,  -3.15614827e-02,  -3.62796597e-02,\n",
       "         2.80698892e-02,   9.07676145e-02,  -7.29072690e-02,\n",
       "         3.79797518e-02,   7.31502995e-02,  -9.17319953e-02,\n",
       "        -4.32321914e-02,  -3.54471290e-03,   9.79601219e-02,\n",
       "         1.19279958e-01,  -1.06602134e-02,   3.59999835e-02,\n",
       "        -8.21536593e-03,   3.73553783e-02,  -9.18307751e-02,\n",
       "         3.69870141e-02,   7.24938884e-02,  -3.52479666e-02,\n",
       "        -9.34776664e-03,  -5.81886768e-02,  -5.43536507e-02,\n",
       "        -8.69821850e-03,   7.80109987e-02,   4.35605124e-02,\n",
       "         5.35942689e-02,   1.71665084e-02,  -2.27313116e-02,\n",
       "         4.29712143e-03,  -7.08772838e-02,   1.70428015e-04,\n",
       "        -1.60453115e-02,   3.42849232e-02,   3.77599970e-02,\n",
       "         9.95366201e-02,  -3.01634986e-02,  -8.03151205e-02,\n",
       "         3.23537365e-02,  -7.02047162e-03,  -1.17491679e-02,\n",
       "        -5.61400019e-02,   1.87730361e-02,   1.13584764e-01,\n",
       "         4.24404219e-02,   8.29087757e-03,  -1.40920542e-02,\n",
       "        -9.95592214e-03,   2.89834607e-02,   2.00759657e-02,\n",
       "         9.75553170e-02,   2.08774246e-02,   4.60003726e-02,\n",
       "        -4.22749622e-03,  -1.36953101e-01,   7.75044411e-02,\n",
       "         1.70415342e-02,  -4.22059856e-02,  -7.34543800e-02,\n",
       "         3.62309739e-02,   9.89209414e-02,   8.44551846e-02,\n",
       "         2.21603476e-02,   5.28484322e-02,  -4.72016670e-02], dtype=float32)"
      ]
     },
     "execution_count": 23,
     "metadata": {},
     "output_type": "execute_result"
    }
   ],
   "source": [
    "model[\"flower\"]"
   ]
  },
  {
   "cell_type": "markdown",
   "metadata": {},
   "source": [
    "#### From Words To Paragraphs, Attempt 1: Vector Averaging"
   ]
  },
  {
   "cell_type": "code",
   "execution_count": 24,
   "metadata": {
    "collapsed": true
   },
   "outputs": [],
   "source": [
    "import numpy as np"
   ]
  },
  {
   "cell_type": "code",
   "execution_count": 32,
   "metadata": {
    "collapsed": true
   },
   "outputs": [],
   "source": [
    "def review_to_wordlist(review, remove_stopwords=False):\n",
    "    # Remove HTML\n",
    "    review_text = BeautifulSoup(review).get_text()\n",
    "    # Remove non-letters\n",
    "    review_text = re.sub(\"[^a-zA-Z]\", \" \", review_text)\n",
    "    # Convert words to lower case and split them\n",
    "    words = review_text.lower().split()\n",
    "    # Remove stopwords\n",
    "    if remove_stopwords:\n",
    "        stops = set(stopwords.words(\"english\"))\n",
    "        words = [w for w in words if not w in stops]\n",
    "        \n",
    "    return words"
   ]
  },
  {
   "cell_type": "code",
   "execution_count": 25,
   "metadata": {
    "collapsed": true
   },
   "outputs": [],
   "source": [
    "def makeFeatureVec(words, model, num_features):\n",
    "    '''\n",
    "    Creates average feature vector given a list of words\n",
    "    '''\n",
    "    # initialize empty vector\n",
    "    featureVec = np.zeros((num_features,),dtype=\"float32\")\n",
    "    nwords = 0.\n",
    "    # list of words as set\n",
    "    index2word_set = set(model.index2word)\n",
    "    # iterate over each word and add up associated feature vectors\n",
    "    for word in words:\n",
    "        if word in index2word_set:\n",
    "            nwords = nwords + 1.\n",
    "            featureVec = np.add(featureVec,model[word])\n",
    "    # average\n",
    "    featureVec = np.divide(featureVec,nwords)\n",
    "    return featureVec"
   ]
  },
  {
   "cell_type": "code",
   "execution_count": 26,
   "metadata": {
    "collapsed": false
   },
   "outputs": [],
   "source": [
    "def getAvgFeatureVecs(reviews, model, num_features):\n",
    "    # Given a set of reviews (each one a list of words), calculate \n",
    "    # the average feature vector for each one and return a 2D numpy array \n",
    "    # \n",
    "    # Initialize a counter\n",
    "    counter = 0.\n",
    "    # \n",
    "    # Preallocate a 2D numpy array, for speed\n",
    "    reviewFeatureVecs = np.zeros((len(reviews),num_features),dtype=\"float32\")\n",
    "    # \n",
    "    # Loop through the reviews\n",
    "    for review in reviews:\n",
    "        if counter%1000. == 0.:\n",
    "            print(\"Review %d of %d\" % (counter, len(reviews)))\n",
    "        # Call the function (defined above) that makes average feature vectors\n",
    "        reviewFeatureVecs[counter] = makeFeatureVec(review, model, num_features)\n",
    "        # Increment the counter\n",
    "        counter = counter + 1.\n",
    "    return reviewFeatureVecs"
   ]
  },
  {
   "cell_type": "code",
   "execution_count": 40,
   "metadata": {
    "collapsed": false
   },
   "outputs": [
    {
     "name": "stderr",
     "output_type": "stream",
     "text": [
      "/Users/Christian/anaconda/envs/dlmovies/lib/python3.5/site-packages/bs4/__init__.py:181: UserWarning: No parser was explicitly specified, so I'm using the best available HTML parser for this system (\"html.parser\"). This usually isn't a problem, but if you run this code on another system, or in a different virtual environment, it may use a different parser and behave differently.\n",
      "\n",
      "The code that caused this warning is on line 184 of the file /Users/Christian/anaconda/envs/dlmovies/lib/python3.5/runpy.py. To get rid of this warning, change code that looks like this:\n",
      "\n",
      " BeautifulSoup([your markup])\n",
      "\n",
      "to this:\n",
      "\n",
      " BeautifulSoup([your markup], \"html.parser\")\n",
      "\n",
      "  markup_type=markup_type))\n"
     ]
    },
    {
     "name": "stdout",
     "output_type": "stream",
     "text": [
      "Review 0 of 25000\n",
      "Review 1000 of 25000\n",
      "Review 2000 of 25000\n",
      "Review 3000 of 25000\n",
      "Review 4000 of 25000\n",
      "Review 5000 of 25000\n",
      "Review 6000 of 25000\n",
      "Review 7000 of 25000\n",
      "Review 8000 of 25000\n",
      "Review 9000 of 25000\n",
      "Review 10000 of 25000\n",
      "Review 11000 of 25000\n",
      "Review 12000 of 25000\n",
      "Review 13000 of 25000\n",
      "Review 14000 of 25000\n",
      "Review 15000 of 25000\n",
      "Review 16000 of 25000\n",
      "Review 17000 of 25000\n",
      "Review 18000 of 25000\n",
      "Review 19000 of 25000\n",
      "Review 20000 of 25000\n",
      "Review 21000 of 25000\n",
      "Review 22000 of 25000\n",
      "Review 23000 of 25000\n",
      "Review 24000 of 25000\n",
      "Review 0 of 25000\n",
      "Review 1000 of 25000\n",
      "Review 2000 of 25000\n",
      "Review 3000 of 25000\n",
      "Review 4000 of 25000\n",
      "Review 5000 of 25000\n",
      "Review 6000 of 25000\n",
      "Review 7000 of 25000\n",
      "Review 8000 of 25000\n",
      "Review 9000 of 25000\n",
      "Review 10000 of 25000\n",
      "Review 11000 of 25000\n",
      "Review 12000 of 25000\n",
      "Review 13000 of 25000\n",
      "Review 14000 of 25000\n",
      "Review 15000 of 25000\n",
      "Review 16000 of 25000\n",
      "Review 17000 of 25000\n",
      "Review 18000 of 25000\n",
      "Review 19000 of 25000\n",
      "Review 20000 of 25000\n",
      "Review 21000 of 25000\n",
      "Review 22000 of 25000\n",
      "Review 23000 of 25000\n",
      "Review 24000 of 25000\n"
     ]
    }
   ],
   "source": [
    "clean_train_reviews = []\n",
    "for review in train[\"review\"]:\n",
    "    clean_train_reviews.append( review_to_wordlist( review, remove_stopwords=True ))\n",
    "\n",
    "trainDataVecs = getAvgFeatureVecs( clean_train_reviews, model, num_features )\n",
    "\n",
    "clean_test_reviews = []\n",
    "for review in test[\"review\"]:\n",
    "    clean_test_reviews.append( review_to_wordlist( review, remove_stopwords=True ))\n",
    "\n",
    "testDataVecs = getAvgFeatureVecs( clean_test_reviews, model, num_features)"
   ]
  },
  {
   "cell_type": "code",
   "execution_count": 42,
   "metadata": {
    "collapsed": false
   },
   "outputs": [
    {
     "data": {
      "text/plain": [
       "(25000, 300)"
      ]
     },
     "execution_count": 42,
     "metadata": {},
     "output_type": "execute_result"
    }
   ],
   "source": [
    "trainDataVecs.shape"
   ]
  },
  {
   "cell_type": "markdown",
   "metadata": {},
   "source": [
    "#### Create Random Forest"
   ]
  },
  {
   "cell_type": "code",
   "execution_count": 43,
   "metadata": {
    "collapsed": true
   },
   "outputs": [],
   "source": [
    "from sklearn.ensemble import RandomForestClassifier\n",
    "forest = RandomForestClassifier( n_estimators = 100 )"
   ]
  },
  {
   "cell_type": "code",
   "execution_count": 44,
   "metadata": {
    "collapsed": true
   },
   "outputs": [],
   "source": [
    "forest = forest.fit( trainDataVecs, train[\"sentiment\"] )"
   ]
  },
  {
   "cell_type": "code",
   "execution_count": 45,
   "metadata": {
    "collapsed": true
   },
   "outputs": [],
   "source": [
    "result = forest.predict( testDataVecs )"
   ]
  },
  {
   "cell_type": "code",
   "execution_count": 46,
   "metadata": {
    "collapsed": true
   },
   "outputs": [],
   "source": [
    "output = pd.DataFrame( data={\"id\":test[\"id\"], \"sentiment\":result} )\n",
    "output.to_csv( \"Word2Vec_AverageVectors.csv\", index=False, quoting=3 )"
   ]
  },
  {
   "cell_type": "code",
   "execution_count": 54,
   "metadata": {
    "collapsed": false
   },
   "outputs": [
    {
     "data": {
      "text/plain": [
       "0.49764000000000003"
      ]
     },
     "execution_count": 54,
     "metadata": {},
     "output_type": "execute_result"
    }
   ],
   "source": [
    "# calculate accuracy\n",
    "np.sum(result == train[\"sentiment\"])/len(result)"
   ]
  },
  {
   "cell_type": "markdown",
   "metadata": {},
   "source": [
    "#### From Words to Paragraphs, Attempt 2: Clustering "
   ]
  },
  {
   "cell_type": "code",
   "execution_count": null,
   "metadata": {
    "collapsed": false
   },
   "outputs": [],
   "source": [
    "from sklearn.cluster import KMeans\n",
    "import time\n",
    "\n",
    "start = time.time() # Start time\n",
    "\n",
    "# Set \"k\" (num_clusters) to be 1/5th of the vocabulary size, or an\n",
    "# average of 5 words per cluster\n",
    "word_vectors = model.syn0\n",
    "num_clusters = round(word_vectors.shape[0] / 5)\n",
    "\n",
    "# Initalize a k-means object and use it to extract centroids\n",
    "kmeans_clustering = KMeans( n_clusters = num_clusters )\n",
    "idx = kmeans_clustering.fit_predict( word_vectors )\n",
    "\n",
    "# Get the end time and print how long the process took\n",
    "end = time.time()\n",
    "elapsed = end - start"
   ]
  },
  {
   "cell_type": "code",
   "execution_count": null,
   "metadata": {
    "collapsed": true
   },
   "outputs": [],
   "source": [
    "# Create a Word / Index dictionary, mapping each vocabulary word to\n",
    "# a cluster number                                                                                            \n",
    "word_centroid_map = dict(zip( model.index2word, idx ))"
   ]
  },
  {
   "cell_type": "code",
   "execution_count": null,
   "metadata": {
    "collapsed": true
   },
   "outputs": [],
   "source": [
    "# Checkout clusters"
   ]
  },
  {
   "cell_type": "code",
   "execution_count": null,
   "metadata": {
    "collapsed": true
   },
   "outputs": [],
   "source": [
    "# For the first 10 clusters\n",
    "for cluster in range(0,10):\n",
    "    #\n",
    "    # Print the cluster number  \n",
    "    print(\"\\nCluster %d\" % cluster)\n",
    "    #\n",
    "    # Find all of the words for that cluster number, and print them out\n",
    "    words = []\n",
    "    for i in xrange(0,len(word_centroid_map.values())):\n",
    "        if( word_centroid_map.values()[i] == cluster ):\n",
    "            words.append(word_centroid_map.keys()[i])\n",
    "    print words"
   ]
  },
  {
   "cell_type": "code",
   "execution_count": null,
   "metadata": {
    "collapsed": true
   },
   "outputs": [],
   "source": [
    "def create_bag_of_centroids( wordlist, word_centroid_map ):\n",
    "    #\n",
    "    # The number of clusters is equal to the highest cluster index\n",
    "    # in the word / centroid map\n",
    "    num_centroids = max( word_centroid_map.values() ) + 1\n",
    "    #\n",
    "    # Pre-allocate the bag of centroids vector (for speed)\n",
    "    bag_of_centroids = np.zeros( num_centroids, dtype=\"float32\" )\n",
    "    #\n",
    "    # Loop over the words in the review. If the word is in the vocabulary,\n",
    "    # find which cluster it belongs to, and increment that cluster count \n",
    "    # by one\n",
    "    for word in wordlist:\n",
    "        if word in word_centroid_map:\n",
    "            index = word_centroid_map[word]\n",
    "            bag_of_centroids[index] += 1\n",
    "    #\n",
    "    # Return the \"bag of centroids\"\n",
    "    return bag_of_centroids"
   ]
  },
  {
   "cell_type": "markdown",
   "metadata": {},
   "source": [
    "so basically a \"bag of centroids\" is a vector of length \"number of clusters\". we loop over each word in each review and increment the cluster indicator by one if we have a hit, i.e. a certain word is from a certain cluster. in the end each review is represented as a vector of cluster counts"
   ]
  },
  {
   "cell_type": "code",
   "execution_count": null,
   "metadata": {
    "collapsed": true
   },
   "outputs": [],
   "source": [
    "# Pre-allocate an array for the training set bags of centroids (for speed)\n",
    "train_centroids = np.zeros( (train[\"review\"].size, num_clusters), \n",
    "    dtype=\"float32\" )\n",
    "\n",
    "# Transform the training set reviews into bags of centroids\n",
    "counter = 0\n",
    "for review in clean_train_reviews:\n",
    "    train_centroids[counter] = create_bag_of_centroids( review, \n",
    "        word_centroid_map )\n",
    "    counter += 1\n",
    "\n",
    "# Repeat for test reviews \n",
    "test_centroids = np.zeros(( test[\"review\"].size, num_clusters), \n",
    "    dtype=\"float32\" )\n",
    "\n",
    "counter = 0\n",
    "for review in clean_test_reviews:\n",
    "    test_centroids[counter] = create_bag_of_centroids( review, \n",
    "        word_centroid_map )\n",
    "    counter += 1\n",
    "# Fit a random forest and extract predictions \n",
    "forest = RandomForestClassifier(n_estimators = 100)\n",
    "\n",
    "# Fitting the forest may take a few minutes\n",
    "print \"Fitting a random forest to labeled training data...\"\n",
    "forest = forest.fit(train_centroids,train[\"sentiment\"])\n",
    "result = forest.predict(test_centroids)\n",
    "\n",
    "# Write the test results \n",
    "output = pd.DataFrame(data={\"id\":test[\"id\"], \"sentiment\":result})\n",
    "output.to_csv( \"BagOfCentroids.csv\", index=False, quoting=3 )"
   ]
  }
 ],
 "metadata": {
  "kernelspec": {
   "display_name": "Python 3",
   "language": "python",
   "name": "python3"
  },
  "language_info": {
   "codemirror_mode": {
    "name": "ipython",
    "version": 3
   },
   "file_extension": ".py",
   "mimetype": "text/x-python",
   "name": "python",
   "nbconvert_exporter": "python",
   "pygments_lexer": "ipython3",
   "version": "3.5.2"
  }
 },
 "nbformat": 4,
 "nbformat_minor": 2
}
